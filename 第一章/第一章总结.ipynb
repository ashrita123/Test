{
 "cells": [
  {
   "cell_type": "code",
   "execution_count": 4,
   "id": "7d4f0402-7b59-4fb3-993c-0fdb8828e265",
   "metadata": {
    "scrolled": true
   },
   "outputs": [
    {
     "data": {
      "text/plain": [
       "Text(0.5, 1.0, 'Be better everyday!')"
      ]
     },
     "execution_count": 4,
     "metadata": {},
     "output_type": "execute_result"
    },
    {
     "data": {
      "image/png": "[encoded data removed]",
      "text/plain": [
       "<Figure size 640x480 with 1 Axes>"
      ]
     },
     "metadata": {},
     "output_type": "display_data"
    }
   ],
   "source": [
    "#基础工作\n",
    "#包括下载软件、导入运行配置等等。安装库文件 pip install A ->安装名为A的lib\n",
    "\n",
    "#一个简单的入门代码\n",
    "\n",
    "#加载lib库\n",
    "import matplotlib.pyplot as plt\n",
    "import math\n",
    "#为所将进行的代码进行设定\n",
    "ability = 1\n",
    "scale = 1.01\n",
    "records = []\n",
    "#编辑运行代码\n",
    "days = range(1, 365)\n",
    "for day in days:\n",
    "    ability = ability*scale\n",
    "    records.append(ability)\n",
    "#运行\n",
    "plt.plot(days, records)\n",
    "plt.title('Be better everyday!')"
   ]
  },
  {
   "cell_type": "code",
   "execution_count": 10,
   "id": "5b8934e4-f061-4b91-87a9-a97c0b884692",
   "metadata": {},
   "outputs": [],
   "source": [
    "#一些python定义\n",
    "#1.字符串 string：以单引号、双引号、三引号括起来的任意文本\n",
    "#你可以使用a = 'a'或'abc'或'print('a')'来理解\n",
    "#一些字符串常用方法 str.lower()“str内容变为小写” str.upper()“变大写” str.split(sep) “使用sep将字符串分割，默认sep为空格”\n",
    "#str.replace(old, new)“将str中的old替换为new” str.format()“向str中填充内容”"
   ]
  },
  {
   "cell_type": "code",
   "execution_count": 24,
   "id": "051218fa-7c9f-40e4-b2a0-7a8f55af47c2",
   "metadata": {},
   "outputs": [
    {
     "data": {
      "text/plain": [
       "['Python', 'is', 'poweful!']"
      ]
     },
     "execution_count": 24,
     "metadata": {},
     "output_type": "execute_result"
    }
   ],
   "source": [
    "words = 'Python is poweful!'\n",
    "words.split(' ')"
   ]
  },
  {
   "cell_type": "code",
   "execution_count": 28,
   "id": "1de04cda-02c1-4316-a88d-ac6f36b5c59f",
   "metadata": {},
   "outputs": [
    {
     "name": "stdout",
     "output_type": "stream",
     "text": [
      "张三,你将被判刑2310天；\n"
     ]
    }
   ],
   "source": [
    "#自动化填充\n",
    "template = '{name},你将被判刑{salary}天；'\n",
    "print(template.format(name='张三', salary='2310'))"
   ]
  },
  {
   "cell_type": "code",
   "execution_count": 8,
   "id": "c5344c15-e23a-4c33-b51f-494b607f281c",
   "metadata": {},
   "outputs": [],
   "source": [
    "#拼接 如a = 'P' b='ython'，你可以通过print(a+b)来输出文本内容'Python'"
   ]
  },
  {
   "cell_type": "code",
   "execution_count": null,
   "id": "2140cb91-c7e4-445f-8cae-40ba237db7af",
   "metadata": {},
   "outputs": [],
   "source": [
    "#切片 如：name = 'My Name is Mike' 使用name[X]进行相应文本内容输出 X可以为数字也可以为范围区间\n",
    "#视X不同，name[X]表达含义不同，如name[0]=name[-15]='M' name[3:6]='Nam' name[:4]='My N' name[-4:]='Mike'"
   ]
  },
  {
   "cell_type": "code",
   "execution_count": 21,
   "id": "955734f3-abee-4202-8cf0-b0aea55b297f",
   "metadata": {},
   "outputs": [
    {
     "data": {
      "text/plain": [
       "'Mike'"
      ]
     },
     "execution_count": 21,
     "metadata": {},
     "output_type": "execute_result"
    }
   ],
   "source": [
    "name = 'My Name is Mike'\n",
    "name[-4:]"
   ]
  },
  {
   "cell_type": "code",
   "execution_count": null,
   "id": "7ad8ed37-12e9-46a1-a17a-994abae6d83b",
   "metadata": {},
   "outputs": [],
   "source": [
    "#转义符"
   ]
  },
  {
   "cell_type": "code",
   "execution_count": 29,
   "id": "f963d84d-e24f-4b6b-85d6-ff4c568523d3",
   "metadata": {},
   "outputs": [
    {
     "ename": "SyntaxError",
     "evalue": "invalid syntax (2605556670.py, line 1)",
     "output_type": "error",
     "traceback": [
      "\u001b[1;36m  Cell \u001b[1;32mIn[29], line 1\u001b[1;36m\u001b[0m\n\u001b[1;33m    print('I'm \"OK\"!')\u001b[0m\n\u001b[1;37m             ^\u001b[0m\n\u001b[1;31mSyntaxError\u001b[0m\u001b[1;31m:\u001b[0m invalid syntax\n"
     ]
    }
   ],
   "source": [
    "print('I'm \"OK\"!')"
   ]
  },
  {
   "cell_type": "code",
   "execution_count": 30,
   "id": "1d26c48e-b6e8-4a81-99e5-65581c96aacd",
   "metadata": {},
   "outputs": [
    {
     "name": "stdout",
     "output_type": "stream",
     "text": [
      "I'm \"OK\"!\n"
     ]
    }
   ],
   "source": [
    "print('I\\'m \\\"OK\\\"!')"
   ]
  },
  {
   "cell_type": "code",
   "execution_count": 31,
   "id": "e9c4d4be-d511-4158-96b1-81e1efaa0f27",
   "metadata": {},
   "outputs": [
    {
     "name": "stdout",
     "output_type": "stream",
     "text": [
      "Hello\tWorld!\n",
      "Hello World!\n"
     ]
    }
   ],
   "source": [
    "#\\t 制表符\n",
    "print('Hello\\tWorld!')\n",
    "print('Hello World!')"
   ]
  },
  {
   "cell_type": "code",
   "execution_count": 43,
   "id": "1328b1e1-4d20-4457-97f5-db05d5b7a532",
   "metadata": {},
   "outputs": [
    {
     "name": "stdout",
     "output_type": "stream",
     "text": [
      "Hello\n",
      "World!\n"
     ]
    }
   ],
   "source": [
    "#\\n换行符\n",
    "print('Hello\\nWorld!')"
   ]
  },
  {
   "cell_type": "code",
   "execution_count": 39,
   "id": "8cb3308a-afb2-46af-b21a-cbf3f37195b3",
   "metadata": {},
   "outputs": [
    {
     "name": "stdout",
     "output_type": "stream",
     "text": [
      "反斜杠线\\\n"
     ]
    }
   ],
   "source": [
    "#‘字符\\’本身也要转义，所以 \\\\ 表示的字符就是 \\\n",
    "print('反斜杠线\\\\')"
   ]
  },
  {
   "cell_type": "code",
   "execution_count": 46,
   "id": "e89faf68-7d79-4502-9ea2-da2e411fcc9c",
   "metadata": {},
   "outputs": [],
   "source": [
    "#r 不转义符"
   ]
  },
  {
   "cell_type": "code",
   "execution_count": 44,
   "id": "647b68ba-a8af-417e-84d7-444fd534d147",
   "metadata": {},
   "outputs": [
    {
     "name": "stdout",
     "output_type": "stream",
     "text": [
      "\\\t\\\n"
     ]
    }
   ],
   "source": [
    "print('\\\\\\t\\\\')"
   ]
  },
  {
   "cell_type": "code",
   "execution_count": 45,
   "id": "907870a0-06bb-442d-b0eb-60cc62cc8921",
   "metadata": {},
   "outputs": [
    {
     "name": "stdout",
     "output_type": "stream",
     "text": [
      "\\\\\\t\\\\\n"
     ]
    }
   ],
   "source": [
    "print(r'\\\\\\t\\\\')"
   ]
  },
  {
   "cell_type": "code",
   "execution_count": 1,
   "id": "10ec181b-a956-4544-b6a6-20946ca4b90b",
   "metadata": {},
   "outputs": [
    {
     "name": "stdout",
     "output_type": "stream",
     "text": [
      "{}\n"
     ]
    }
   ],
   "source": [
    "#2.字典\n",
    "#如何设置一个字典？\n",
    "A = dict()\n",
    "print(A)"
   ]
  },
  {
   "cell_type": "code",
   "execution_count": 6,
   "id": "474a9f25-3ff2-4082-a054-58c2289c2947",
   "metadata": {},
   "outputs": [
    {
     "name": "stdout",
     "output_type": "stream",
     "text": [
      "{'a': 'b', 'age': 22, 'hobby': ['run', 'swim', 'football']}\n"
     ]
    }
   ],
   "source": [
    "#给字典内添加内容\n",
    "A['a'] = 'b'\n",
    "A['age'] = 22\n",
    "A['hobby'] = ['run', 'swim', 'football']\n",
    "print(A)"
   ]
  },
  {
   "cell_type": "code",
   "execution_count": 9,
   "id": "d7cb171e-38f6-47dc-bf94-6d2a2559b9ad",
   "metadata": {},
   "outputs": [
    {
     "name": "stdout",
     "output_type": "stream",
     "text": [
      "{'David': {'age': 25, 'gender': 'Male', 'hobbies': ['Basketball', 'Pingpang', 'Hiking']}, 'Mary': {'age': 23, 'gender': 'Female', 'hobbies': ['Reading', 'Movies']}, 'Henry': {'age': 23, 'gender': 'Male', 'hobbies': ['Diving', 'Hiking']}}\n"
     ]
    }
   ],
   "source": [
    "#复合字典内容，其实质同上\n",
    "infos =  {'David':{'age':25, \n",
    "                   'gender':'Male',\n",
    "                   'hobbies':['Basketball', 'Pingpang', 'Hiking']},\n",
    "          'Mary':{'age':23,\n",
    "                  'gender': 'Female',\n",
    "                  'hobbies': ['Reading', 'Movies']},\n",
    "          'Henry':{'age':23,\n",
    "                  'gender': 'Male',\n",
    "                  'hobbies': ['Diving', 'Hiking']}}\n",
    "\n",
    "print(infos)"
   ]
  },
  {
   "cell_type": "code",
   "execution_count": 10,
   "id": "fb8d60d5-f221-42c6-873d-cd632c9ffd2e",
   "metadata": {},
   "outputs": [
    {
     "data": {
      "text/plain": [
       "dict_items([('David', {'age': 25, 'gender': 'Male', 'hobbies': ['Basketball', 'Pingpang', 'Hiking']}), ('Mary', {'age': 23, 'gender': 'Female', 'hobbies': ['Reading', 'Movies']}), ('Henry', {'age': 23, 'gender': 'Male', 'hobbies': ['Diving', 'Hiking']})])"
      ]
     },
     "execution_count": 10,
     "metadata": {},
     "output_type": "execute_result"
    }
   ],
   "source": [
    "#字典常用指令，下列infos为上列infos定义\n",
    "infos.items()"
   ]
  },
  {
   "cell_type": "code",
   "execution_count": 11,
   "id": "10351f97-4a5a-45ab-8f17-15ea4601b993",
   "metadata": {},
   "outputs": [
    {
     "data": {
      "text/plain": [
       "[('David',\n",
       "  {'age': 25,\n",
       "   'gender': 'Male',\n",
       "   'hobbies': ['Basketball', 'Pingpang', 'Hiking']}),\n",
       " ('Mary', {'age': 23, 'gender': 'Female', 'hobbies': ['Reading', 'Movies']}),\n",
       " ('Henry', {'age': 23, 'gender': 'Male', 'hobbies': ['Diving', 'Hiking']})]"
      ]
     },
     "execution_count": 11,
     "metadata": {},
     "output_type": "execute_result"
    }
   ],
   "source": [
    "#把infos.items()转化为列表\n",
    "list(infos.items())"
   ]
  },
  {
   "cell_type": "code",
   "execution_count": 12,
   "id": "6a8803be-b151-459a-a58c-06c3e286b26a",
   "metadata": {},
   "outputs": [
    {
     "data": {
      "text/plain": [
       "dict_keys(['David', 'Mary', 'Henry'])"
      ]
     },
     "execution_count": 12,
     "metadata": {},
     "output_type": "execute_result"
    }
   ],
   "source": [
    "#返回dictdata的所有关键词\n",
    "infos.keys()"
   ]
  },
  {
   "cell_type": "code",
   "execution_count": 13,
   "id": "edae9f12-abe2-4d29-b3f2-df43fb533a38",
   "metadata": {},
   "outputs": [
    {
     "data": {
      "text/plain": [
       "dict_values([{'age': 25, 'gender': 'Male', 'hobbies': ['Basketball', 'Pingpang', 'Hiking']}, {'age': 23, 'gender': 'Female', 'hobbies': ['Reading', 'Movies']}, {'age': 23, 'gender': 'Male', 'hobbies': ['Diving', 'Hiking']}])"
      ]
     },
     "execution_count": 13,
     "metadata": {},
     "output_type": "execute_result"
    }
   ],
   "source": [
    "#返回dictdata的所有值\n",
    "infos.values()"
   ]
  },
  {
   "cell_type": "code",
   "execution_count": 14,
   "id": "cc7e5868-6917-4c8c-b502-29979d5ba23b",
   "metadata": {},
   "outputs": [
    {
     "name": "stdout",
     "output_type": "stream",
     "text": [
      "{'age': 25, 'gender': 'Male', 'hobbies': ['Basketball', 'Pingpang', 'Hiking']}\n",
      "{'age': 25, 'gender': 'Male', 'hobbies': ['Basketball', 'Pingpang', 'Hiking']}\n"
     ]
    }
   ],
   "source": [
    "#获取关键词keystr对应的值，带get的更加稳定\n",
    "print(infos['David'])\n",
    "print(infos.get('David'))"
   ]
  },
  {
   "cell_type": "code",
   "execution_count": 18,
   "id": "8ccd4b26-d8b5-4215-af2a-94e1aa336c69",
   "metadata": {},
   "outputs": [
    {
     "name": "stdout",
     "output_type": "stream",
     "text": [
      "False\n"
     ]
    }
   ],
   "source": [
    "#3布尔值Boolean\n",
    "x = True and False\n",
    "print(x)"
   ]
  },
  {
   "cell_type": "code",
   "execution_count": 19,
   "id": "8462d4fd-2e62-4653-877e-2fbaa7d2509f",
   "metadata": {},
   "outputs": [
    {
     "name": "stdout",
     "output_type": "stream",
     "text": [
      "True\n"
     ]
    }
   ],
   "source": [
    "x = True or False\n",
    "print(x)"
   ]
  },
  {
   "cell_type": "code",
   "execution_count": 20,
   "id": "2f51ebdc-42d1-4814-a698-b2c71379439c",
   "metadata": {},
   "outputs": [
    {
     "name": "stdout",
     "output_type": "stream",
     "text": [
      "False\n"
     ]
    }
   ],
   "source": [
    "x = not True\n",
    "print(x)"
   ]
  },
  {
   "cell_type": "code",
   "execution_count": 23,
   "id": "b14c65a3-1499-4e87-a55b-4362a6b9bb4c",
   "metadata": {},
   "outputs": [
    {
     "name": "stdout",
     "output_type": "stream",
     "text": [
      "False\n",
      "<class 'bool'>\n"
     ]
    }
   ],
   "source": [
    "#比较运算\n",
    "a = 5\n",
    "b = 3\n",
    "\n",
    "x = a<b\n",
    "print(x)\n",
    "print(type(x))"
   ]
  },
  {
   "cell_type": "code",
   "execution_count": 24,
   "id": "544fed10-e737-408d-95ad-ecc604e95fab",
   "metadata": {},
   "outputs": [
    {
     "name": "stdout",
     "output_type": "stream",
     "text": [
      "True\n"
     ]
    }
   ],
   "source": [
    "# ==为等于，=为赋值\n",
    "print(5==5)"
   ]
  },
  {
   "cell_type": "code",
   "execution_count": 25,
   "id": "1b482262-1a09-40cd-a98c-73fb75086846",
   "metadata": {},
   "outputs": [
    {
     "name": "stdout",
     "output_type": "stream",
     "text": [
      "False\n"
     ]
    }
   ],
   "source": [
    "# !=为不等于\n",
    "print(5!=5)"
   ]
  },
  {
   "cell_type": "code",
   "execution_count": null,
   "id": "c4118533-abaf-4450-9d3a-4592f2ea2afe",
   "metadata": {},
   "outputs": [],
   "source": [
    "#4.成员运算符in"
   ]
  },
  {
   "cell_type": "code",
   "execution_count": 26,
   "id": "9146dfb7-39ee-4550-94d8-fda53f95b18f",
   "metadata": {},
   "outputs": [
    {
     "data": {
      "text/plain": [
       "True"
      ]
     },
     "execution_count": 26,
     "metadata": {},
     "output_type": "execute_result"
    }
   ],
   "source": [
    "#可在in前加not，输出结果则为False\n",
    "x = 4 in [1,2,4]\n",
    "x"
   ]
  },
  {
   "cell_type": "code",
   "execution_count": 33,
   "id": "1997b930-e636-4afb-a2a6-ac87b48270eb",
   "metadata": {},
   "outputs": [
    {
     "name": "stdout",
     "output_type": "stream",
     "text": [
      "你还是个孩子\n"
     ]
    }
   ],
   "source": [
    "#5.if条件判断\n",
    "age = 17\n",
    "\n",
    "if age>=18:\n",
    "    print('成年')\n",
    "else:\n",
    "    print('未成年')"
   ]
  },
  {
   "cell_type": "code",
   "execution_count": 35,
   "id": "e6d66b1b-6b3c-4d02-be83-f3fca5c9739d",
   "metadata": {},
   "outputs": [
    {
     "name": "stdout",
     "output_type": "stream",
     "text": [
      "青年\n"
     ]
    }
   ],
   "source": [
    "age = 20\n",
    "\n",
    "if age>=65:\n",
    "    print('老年人')\n",
    "elif 35<=age<65:\n",
    "    print('中年')\n",
    "elif 18<=age<35:\n",
    "    print('青年')\n",
    "elif 0<=age<18:\n",
    "    print('儿童')"
   ]
  },
  {
   "cell_type": "code",
   "execution_count": 37,
   "id": "4d8b6943-db41-4d71-b5f6-da4f76dae777",
   "metadata": {},
   "outputs": [
    {
     "name": "stdout",
     "output_type": "stream",
     "text": [
      "5050\n"
     ]
    }
   ],
   "source": [
    "#6.for循环\n",
    "result = 0\n",
    "#(a, b)是左闭右开区间\n",
    "for i in range(1, 101):\n",
    "    result = result + i\n",
    "    \n",
    "print(result)"
   ]
  },
  {
   "cell_type": "code",
   "execution_count": 40,
   "id": "3681db5a-88d4-4dd5-8381-7e13155e6da6",
   "metadata": {},
   "outputs": [
    {
     "name": "stdout",
     "output_type": "stream",
     "text": [
      "Aa\n",
      "Bb\n",
      "Cc\n"
     ]
    }
   ],
   "source": [
    "names = ['Aa', 'Bb', 'Cc']\n",
    "\n",
    "for name in names:\n",
    "    print(name)"
   ]
  },
  {
   "cell_type": "code",
   "execution_count": 43,
   "id": "da266d3a-1ea6-476d-8d42-0913eb60f6fa",
   "metadata": {},
   "outputs": [
    {
     "name": "stdout",
     "output_type": "stream",
     "text": [
      "('David', {'age': 25, 'gender': 'Male'})\n",
      "('Mary', {'age': 23, 'gender': 'Female'})\n",
      "('Henry', {'age': 23, 'gender': 'Male'})\n"
     ]
    }
   ],
   "source": [
    "infos =  {'David':{'age':25,'gender':'Male'},'Mary':{'age':23,'gender': 'Female'},'Henry':{'age':23,'gender': 'Male'}}\n",
    "\n",
    "for item in infos.items():\n",
    "    print(item)"
   ]
  },
  {
   "cell_type": "code",
   "execution_count": 45,
   "id": "776d33e9-e448-4826-a39b-bfd4351cb54e",
   "metadata": {},
   "outputs": [
    {
     "name": "stdout",
     "output_type": "stream",
     "text": [
      "David {'age': 25, 'gender': 'Male'}\n",
      "Mary {'age': 23, 'gender': 'Female'}\n",
      "Henry {'age': 23, 'gender': 'Male'}\n"
     ]
    }
   ],
   "source": [
    "for name,info in infos.items():\n",
    "    print(name, info)"
   ]
  },
  {
   "cell_type": "code",
   "execution_count": null,
   "id": "cbc35662-f329-40b0-aec3-fe97e34a3611",
   "metadata": {},
   "outputs": [],
   "source": [
    "#7.try-except"
   ]
  },
  {
   "cell_type": "code",
   "execution_count": 46,
   "id": "2f23478b-9093-4aff-82b9-c9f50528836c",
   "metadata": {},
   "outputs": [
    {
     "name": "stdout",
     "output_type": "stream",
     "text": [
      "10.0\n",
      "5.0\n"
     ]
    },
    {
     "ename": "ZeroDivisionError",
     "evalue": "division by zero",
     "output_type": "error",
     "traceback": [
      "\u001b[1;31m---------------------------------------------------------------------------\u001b[0m",
      "\u001b[1;31mZeroDivisionError\u001b[0m                         Traceback (most recent call last)",
      "Cell \u001b[1;32mIn[46], line 2\u001b[0m\n\u001b[0;32m      1\u001b[0m \u001b[38;5;28;01mfor\u001b[39;00m x \u001b[38;5;129;01min\u001b[39;00m [\u001b[38;5;241m1\u001b[39m,\u001b[38;5;241m2\u001b[39m,\u001b[38;5;241m0\u001b[39m,\u001b[38;5;241m2\u001b[39m,\u001b[38;5;241m1\u001b[39m]:\n\u001b[1;32m----> 2\u001b[0m     \u001b[38;5;28mprint\u001b[39m(\u001b[38;5;241;43m10\u001b[39;49m\u001b[38;5;241;43m/\u001b[39;49m\u001b[43mx\u001b[49m)\n",
      "\u001b[1;31mZeroDivisionError\u001b[0m: division by zero"
     ]
    }
   ],
   "source": [
    "for x in [1,2,0,2,1]:\n",
    "    print(10/x)\n",
    "#由于10/0不存在，故会报错，可以为进行设置跳过错误"
   ]
  },
  {
   "cell_type": "code",
   "execution_count": 47,
   "id": "20efed78-8857-41e4-b0b7-847330d40e6c",
   "metadata": {},
   "outputs": [
    {
     "name": "stdout",
     "output_type": "stream",
     "text": [
      "10.0\n",
      "5.0\n",
      "0除错误\n",
      "5.0\n",
      "10.0\n"
     ]
    }
   ],
   "source": [
    "for x in [1,2,0,2,1]:\n",
    "    try:\n",
    "        print(10/x)\n",
    "    except:\n",
    "        print('0除错误')"
   ]
  },
  {
   "cell_type": "code",
   "execution_count": 7,
   "id": "9c6fecc6-806e-4f6d-af61-ce43befb5ec3",
   "metadata": {},
   "outputs": [
    {
     "data": {
      "text/plain": [
       "[('life', 1),\n",
       " ('easy', 2),\n",
       " ('short', 1),\n",
       " ('is', 2),\n",
       " ('so', 1),\n",
       " ('we', 1),\n",
       " ('to', 2),\n",
       " ('use', 2),\n",
       " ('learn', 1),\n",
       " ('python', 2),\n",
       " ('and', 1)]"
      ]
     },
     "execution_count": 7,
     "metadata": {},
     "output_type": "execute_result"
    }
   ],
   "source": [
    "#8.寻找词频\n",
    "words=['Life', 'is', 'short', 'so', 'we', 'use', 'Python', 'python', \n",
    "         'is', 'easy', 'to', 'learn', 'and', 'easy', 'to', 'use']\n",
    "#使words内词汇小写，方便统计词频\n",
    "lower_words=[word.lower() for word in words]\n",
    "#寻找词频\n",
    "wordset = set(lower_words)\n",
    "[(word, lower_words.count(word)) for word in wordset]"
   ]
  },
  {
   "cell_type": "code",
   "execution_count": 8,
   "id": "48ef6a41-f0fa-4847-8b6a-2e90d73a171b",
   "metadata": {},
   "outputs": [
    {
     "data": {
      "text/plain": [
       "'我是张三,今年25'"
      ]
     },
     "execution_count": 8,
     "metadata": {},
     "output_type": "execute_result"
    }
   ],
   "source": [
    "#9函数\n",
    "#位置函数\n",
    "def introduce(name, age):\n",
    "    return '我是{0},今年{1}'.format(name, age)\n",
    "    \n",
    "introduce('张三', 25)"
   ]
  },
  {
   "cell_type": "code",
   "execution_count": 11,
   "id": "a50682ee-0bbb-47f3-9f16-6f7eadbd1c54",
   "metadata": {},
   "outputs": [
    {
     "data": {
      "text/plain": [
       "'我是25,今年张三'"
      ]
     },
     "execution_count": 11,
     "metadata": {},
     "output_type": "execute_result"
    }
   ],
   "source": [
    "#位置函数\n",
    "def introduce(name, age):\n",
    "    return '我是{0},今年{1}'.format(name, age)\n",
    "    \n",
    "introduce(25,'张三')"
   ]
  },
  {
   "cell_type": "code",
   "execution_count": 13,
   "id": "59f6673c-e07c-46a2-b475-846abcbaf2c2",
   "metadata": {},
   "outputs": [
    {
     "data": {
      "text/plain": [
       "'我是张三,今年25岁'"
      ]
     },
     "execution_count": 13,
     "metadata": {},
     "output_type": "execute_result"
    }
   ],
   "source": [
    "#关键词函数\n",
    "def introduce1(name, age):\n",
    "    return '我是{0},今年{1}岁'.format(name, age)\n",
    "    \n",
    "    \n",
    "introduce1(name='张三', age=25)"
   ]
  },
  {
   "cell_type": "code",
   "execution_count": 16,
   "id": "20faa564-4660-411e-98a0-afa401625557",
   "metadata": {},
   "outputs": [
    {
     "data": {
      "text/plain": [
       "'我是张三,今年25, 性别男'"
      ]
     },
     "execution_count": 16,
     "metadata": {},
     "output_type": "execute_result"
    }
   ],
   "source": [
    "#默认函数，即函数中某些值固定\n",
    "def introduce2(name, age, gender='男'):\n",
    "    return '我是{0},今年{1}, 性别{2}'.format(name, age, gender)\n",
    "introduce2('张三', 25)"
   ]
  },
  {
   "cell_type": "code",
   "execution_count": 2,
   "id": "dc9e287c-98c8-4142-b8a9-8c0473fa78ce",
   "metadata": {},
   "outputs": [
    {
     "ename": "FileNotFoundError",
     "evalue": "[Errno 2] No such file or directory: 'data/test.csv'",
     "output_type": "error",
     "traceback": [
      "\u001b[1;31m---------------------------------------------------------------------------\u001b[0m",
      "\u001b[1;31mFileNotFoundError\u001b[0m                         Traceback (most recent call last)",
      "Cell \u001b[1;32mIn[2], line 6\u001b[0m\n\u001b[0;32m      4\u001b[0m \u001b[38;5;28;01mimport\u001b[39;00m \u001b[38;5;21;01mcsv\u001b[39;00m\n\u001b[0;32m      5\u001b[0m path \u001b[38;5;241m=\u001b[39m \u001b[38;5;124m'\u001b[39m\u001b[38;5;124mdata/test.csv\u001b[39m\u001b[38;5;124m'\u001b[39m\n\u001b[1;32m----> 6\u001b[0m csvf \u001b[38;5;241m=\u001b[39m \u001b[38;5;28;43mopen\u001b[39;49m\u001b[43m(\u001b[49m\u001b[43mpath\u001b[49m\u001b[43m,\u001b[49m\u001b[43m \u001b[49m\u001b[38;5;124;43m'\u001b[39;49m\u001b[38;5;124;43ma+\u001b[39;49m\u001b[38;5;124;43m'\u001b[39;49m\u001b[43m,\u001b[49m\u001b[43m \u001b[49m\u001b[43mencoding\u001b[49m\u001b[38;5;241;43m=\u001b[39;49m\u001b[38;5;124;43m'\u001b[39;49m\u001b[38;5;124;43mutf-8\u001b[39;49m\u001b[38;5;124;43m'\u001b[39;49m\u001b[43m,\u001b[49m\u001b[43m \u001b[49m\u001b[43mnewline\u001b[49m\u001b[38;5;241;43m=\u001b[39;49m\u001b[38;5;124;43m'\u001b[39;49m\u001b[38;5;124;43m'\u001b[39;49m\u001b[43m)\u001b[49m\n\u001b[0;32m      8\u001b[0m \u001b[38;5;66;03m#2. 定义字段名，并初始化csv文件为writer\u001b[39;00m\n\u001b[0;32m      9\u001b[0m fieldnames \u001b[38;5;241m=\u001b[39m [\u001b[38;5;124m'\u001b[39m\u001b[38;5;124mname\u001b[39m\u001b[38;5;124m'\u001b[39m, \u001b[38;5;124m'\u001b[39m\u001b[38;5;124mage\u001b[39m\u001b[38;5;124m'\u001b[39m]\n",
      "File \u001b[1;32mE:\\python\\lib\\site-packages\\IPython\\core\\interactiveshell.py:310\u001b[0m, in \u001b[0;36m_modified_open\u001b[1;34m(file, *args, **kwargs)\u001b[0m\n\u001b[0;32m    303\u001b[0m \u001b[38;5;28;01mif\u001b[39;00m file \u001b[38;5;129;01min\u001b[39;00m {\u001b[38;5;241m0\u001b[39m, \u001b[38;5;241m1\u001b[39m, \u001b[38;5;241m2\u001b[39m}:\n\u001b[0;32m    304\u001b[0m     \u001b[38;5;28;01mraise\u001b[39;00m \u001b[38;5;167;01mValueError\u001b[39;00m(\n\u001b[0;32m    305\u001b[0m         \u001b[38;5;124mf\u001b[39m\u001b[38;5;124m\"\u001b[39m\u001b[38;5;124mIPython won\u001b[39m\u001b[38;5;124m'\u001b[39m\u001b[38;5;124mt let you open fd=\u001b[39m\u001b[38;5;132;01m{\u001b[39;00mfile\u001b[38;5;132;01m}\u001b[39;00m\u001b[38;5;124m by default \u001b[39m\u001b[38;5;124m\"\u001b[39m\n\u001b[0;32m    306\u001b[0m         \u001b[38;5;124m\"\u001b[39m\u001b[38;5;124mas it is likely to crash IPython. If you know what you are doing, \u001b[39m\u001b[38;5;124m\"\u001b[39m\n\u001b[0;32m    307\u001b[0m         \u001b[38;5;124m\"\u001b[39m\u001b[38;5;124myou can use builtins\u001b[39m\u001b[38;5;124m'\u001b[39m\u001b[38;5;124m open.\u001b[39m\u001b[38;5;124m\"\u001b[39m\n\u001b[0;32m    308\u001b[0m     )\n\u001b[1;32m--> 310\u001b[0m \u001b[38;5;28;01mreturn\u001b[39;00m io_open(file, \u001b[38;5;241m*\u001b[39margs, \u001b[38;5;241m*\u001b[39m\u001b[38;5;241m*\u001b[39mkwargs)\n",
      "\u001b[1;31mFileNotFoundError\u001b[0m: [Errno 2] No such file or directory: 'data/test.csv'"
     ]
    }
   ],
   "source": [
    "#10 csv储存\n",
    "### csv存储数据代码步骤\n",
    "#1. 新建一个csv文件(此处'data/test.csv'data文件夹需要与本python文件位于一个子目录下，如子目录没有data文件夹需要手动新建一个)\n",
    "import csv\n",
    "path = 'data/test.csv'\n",
    "csvf = open(path, 'a+', encoding='utf-8', newline='')\n",
    "\n",
    "#2. 定义字段名，并初始化csv文件为writer\n",
    "fieldnames = ['name', 'age']\n",
    "writer = csv.DictWriter(csvf, fieldnames=fieldnames)\n",
    "writer.writeheader()\n",
    "\n",
    "#3. 将待存储数据整理为字典格式\n",
    "test_data = {'name': 'David',\n",
    "             'age': 25}\n",
    "\n",
    "#4. 用writer往csv中存储数据\n",
    "writer.writerow(test_data)\n",
    "\n",
    "#5. 最后记得关闭csv文件\n",
    "csvf.close()\n"
   ]
  },
  {
   "cell_type": "code",
   "execution_count": 3,
   "id": "31ec62ca-0624-4415-8733-02f27f8ce8f4",
   "metadata": {},
   "outputs": [
    {
     "name": "stdout",
     "output_type": "stream",
     "text": [
      "[('张三', '山东', '25')]\n",
      "[('李四', '河北', '28')]\n",
      "[('王五', '河南', '24')]\n"
     ]
    }
   ],
   "source": [
    "#11.正则表达式\n",
    "import re\n",
    "#找到重复规律，提取其中需要的信息\n",
    "pattern = '我叫(.*?)，来自(.*?)，今年(.*?)岁。'\n",
    "intros = ['我叫张三，来自山东，今年25岁。',\n",
    "          '我叫李四，来自河北，今年28岁。',\n",
    "          '我叫王五，来自河南，今年24岁。']\n",
    "for intro in intros:\n",
    "    info = re.findall(pattern, intro)\n",
    "    print(info)"
   ]
  },
  {
   "cell_type": "code",
   "execution_count": 8,
   "id": "e6f24148-87f7-47de-a614-fccc8c64178f",
   "metadata": {},
   "outputs": [
    {
     "name": "stdout",
     "output_type": "stream",
     "text": [
      "[('张三', '山东', '25')]\n",
      "[('李四', '河北', '28')]\n",
      "[('王五', '河南', '24')]\n"
     ]
    }
   ],
   "source": [
    "import re\n",
    "#(.*?)左右两侧都需要有字符包括\n",
    "pattern = '我叫(.*?)，来自(.*?)，今年(.*?)岁'\n",
    "intros = ['我叫张三，来自山东，今年25岁。',\n",
    "          '我叫李四，来自河北，今年28岁。',\n",
    "          '我叫王五，来自河南，今年24岁。']\n",
    "for intro in intros:\n",
    "    info = re.findall(pattern, intro)\n",
    "    print(info)"
   ]
  }
 ],
 "metadata": {
  "kernelspec": {
   "display_name": "Python 3 (ipykernel)",
   "language": "python",
   "name": "python3"
  },
  "language_info": {
   "codemirror_mode": {
    "name": "ipython",
    "version": 3
   },
   "file_extension": ".py",
   "mimetype": "text/x-python",
   "name": "python",
   "nbconvert_exporter": "python",
   "pygments_lexer": "ipython3",
   "version": "3.9.13"
  }
 },
 "nbformat": 4,
 "nbformat_minor": 5
}
